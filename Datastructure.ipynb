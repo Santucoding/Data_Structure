{
 "cells": [
  {
   "cell_type": "markdown",
   "id": "13587161-ee16-41ab-9888-68c3097f7a8c",
   "metadata": {},
   "source": [
    "1. Discuss string slicing and provide examples."
   ]
  },
  {
   "cell_type": "raw",
   "id": "bca7cbe8-d185-4737-9a84-c1f40f617d1e",
   "metadata": {},
   "source": [
    "String slicing in python allows us to create a new string by extracting a portion or slice from a string. The syntax for slicing a string is string[start:stop:step]."
   ]
  },
  {
   "cell_type": "code",
   "execution_count": 17,
   "id": "d37f7460-676c-442c-a744-fff9959e8fcb",
   "metadata": {},
   "outputs": [],
   "source": [
    "#example:\n",
    "str1 = \"I am studying in pwskills lab\"\n"
   ]
  },
  {
   "cell_type": "code",
   "execution_count": 18,
   "id": "b0943a4d-9d5a-408b-9b6c-65f2642f36bd",
   "metadata": {},
   "outputs": [
    {
     "data": {
      "text/plain": [
       "'I am studying in pwskills lab'"
      ]
     },
     "execution_count": 18,
     "metadata": {},
     "output_type": "execute_result"
    }
   ],
   "source": [
    "str1[0:]"
   ]
  },
  {
   "cell_type": "code",
   "execution_count": 19,
   "id": "b301137f-3cd7-4afe-9b5c-0a7ca3b9a3e4",
   "metadata": {},
   "outputs": [
    {
     "data": {
      "text/plain": [
       "'I am studying'"
      ]
     },
     "execution_count": 19,
     "metadata": {},
     "output_type": "execute_result"
    }
   ],
   "source": [
    "str1[0:13]"
   ]
  },
  {
   "cell_type": "code",
   "execution_count": 20,
   "id": "d5fea69d-7b6b-41c8-bacc-ad05ec05446b",
   "metadata": {},
   "outputs": [
    {
     "data": {
      "text/plain": [
       "'in pwskills lab'"
      ]
     },
     "execution_count": 20,
     "metadata": {},
     "output_type": "execute_result"
    }
   ],
   "source": [
    "str1[14:29]"
   ]
  },
  {
   "cell_type": "code",
   "execution_count": 25,
   "id": "54ee0150-0edb-48a8-ae74-64b456cd9f72",
   "metadata": {},
   "outputs": [
    {
     "data": {
      "text/plain": [
       "'I am studying in pwskills lab'"
      ]
     },
     "execution_count": 25,
     "metadata": {},
     "output_type": "execute_result"
    }
   ],
   "source": [
    "str1[-30:] # using negative slicing "
   ]
  },
  {
   "cell_type": "code",
   "execution_count": 27,
   "id": "7614efcd-9118-44de-83d2-2a38a419fffa",
   "metadata": {},
   "outputs": [
    {
     "data": {
      "text/plain": [
       "'bal sllikswp ni gniyduts ma I'"
      ]
     },
     "execution_count": 27,
     "metadata": {},
     "output_type": "execute_result"
    }
   ],
   "source": [
    "str1[::-1] # reversing of the string"
   ]
  },
  {
   "cell_type": "code",
   "execution_count": 28,
   "id": "3cbf53ad-966d-4b6f-8aed-2854d3e00999",
   "metadata": {},
   "outputs": [
    {
     "data": {
      "text/plain": [
       "'Ia tdigi wklslb'"
      ]
     },
     "execution_count": 28,
     "metadata": {},
     "output_type": "execute_result"
    }
   ],
   "source": [
    "str1[::2] # using step value 2 to get every second character in a list"
   ]
  },
  {
   "cell_type": "code",
   "execution_count": 30,
   "id": "ac809ced-b897-42e1-a932-44a32ee00617",
   "metadata": {},
   "outputs": [
    {
     "data": {
      "text/plain": [
       "'Ia tdigi wklslb'"
      ]
     },
     "execution_count": 30,
     "metadata": {},
     "output_type": "execute_result"
    }
   ],
   "source": [
    "str1[0:31:2] # combination of start stop step value to slice the string"
   ]
  },
  {
   "cell_type": "markdown",
   "id": "33625cb9-6773-4d79-ac49-0cbfee0257a3",
   "metadata": {},
   "source": [
    "2. Explain the key features of lists in Python"
   ]
  },
  {
   "cell_type": "raw",
   "id": "56fc9583-317c-4b95-87d8-147bafb64967",
   "metadata": {},
   "source": [
    "Key features of list are:\n",
    "1) Ordered : The elements inside the list can be accessed by their index because the elements inside the list maintain order.\n",
    "2) Mutable: ListLists can be modified after creation. Elements can be added, removed, or changed.\n",
    "3) Heterogenous: List can contain any type of data type as elements inside it including list.\n",
    "4) Indexing and Slicing: Lists support indexing to access individual elements and slicing to access sublists.\n"
   ]
  },
  {
   "cell_type": "markdown",
   "id": "56a1cd27-6837-46c2-86b3-85e08a3568ff",
   "metadata": {},
   "source": [
    "3. Describe how to access, modify, and delete elements in a list with examples."
   ]
  },
  {
   "cell_type": "code",
   "execution_count": 5,
   "id": "3dbe172c-866f-4187-9185-8de8969ed7fd",
   "metadata": {},
   "outputs": [
    {
     "name": "stdout",
     "output_type": "stream",
     "text": [
      "1\n",
      "2\n",
      "5\n",
      "4\n"
     ]
    }
   ],
   "source": [
    "#Accessing elements in a list\n",
    "# 1. using Index\n",
    "l1 = [1,2,3,4,5]\n",
    "print(l1[0])\n",
    "print(l1[1])\n",
    "print(l1[-1]) #negative indexing\n",
    "print(l1[-2])"
   ]
  },
  {
   "cell_type": "code",
   "execution_count": 9,
   "id": "fe04b625-dac7-4858-aaa2-a54a55de228f",
   "metadata": {},
   "outputs": [
    {
     "name": "stdout",
     "output_type": "stream",
     "text": [
      "[1, 2, 3, 4]\n",
      "[1, 2, 3, 4, 5]\n",
      "[5, 4, 3, 2, 1]\n"
     ]
    }
   ],
   "source": [
    "# 2. using slicing\n",
    "print(l1[0:4])\n",
    "print(l1[0:])\n",
    "print(l1[::-1])"
   ]
  },
  {
   "cell_type": "code",
   "execution_count": 10,
   "id": "e25a93b5-cd26-4457-8d24-b847afaffad1",
   "metadata": {},
   "outputs": [
    {
     "data": {
      "text/plain": [
       "[1, 100, 3, 4, 5]"
      ]
     },
     "execution_count": 10,
     "metadata": {},
     "output_type": "execute_result"
    }
   ],
   "source": [
    "# Modifying elements in a list\n",
    "# 1. using index\n",
    "l1[1] = 100\n",
    "l1"
   ]
  },
  {
   "cell_type": "code",
   "execution_count": 11,
   "id": "6e72ced8-12f7-4b61-87a1-1ebb96793812",
   "metadata": {},
   "outputs": [
    {
     "data": {
      "text/plain": [
       "[1, 100, 3, 4, 5, 200]"
      ]
     },
     "execution_count": 11,
     "metadata": {},
     "output_type": "execute_result"
    }
   ],
   "source": [
    "# 2. using list method append\n",
    "l1.append(200)\n",
    "l1"
   ]
  },
  {
   "cell_type": "code",
   "execution_count": 12,
   "id": "4babc8ee-2945-4185-9c0c-89491ee7a3d3",
   "metadata": {},
   "outputs": [
    {
     "data": {
      "text/plain": [
       "[1, 100, 300, 3, 4, 5, 200]"
      ]
     },
     "execution_count": 12,
     "metadata": {},
     "output_type": "execute_result"
    }
   ],
   "source": [
    "# 3. using list method insert\n",
    "l1.insert(2, 300)\n",
    "l1"
   ]
  },
  {
   "cell_type": "code",
   "execution_count": 13,
   "id": "504d3ce7-fdab-494c-a7bf-555bccaf91f9",
   "metadata": {},
   "outputs": [
    {
     "data": {
      "text/plain": [
       "[1, 100, 300, 3, 4, 5, 200, 400, 500]"
      ]
     },
     "execution_count": 13,
     "metadata": {},
     "output_type": "execute_result"
    }
   ],
   "source": [
    "# 4. Exdend the list with another list\n",
    "l1.extend([400,500])\n",
    "l1"
   ]
  },
  {
   "cell_type": "code",
   "execution_count": 14,
   "id": "3ecfe158-6c07-45ab-9b20-700c9ff7bcc4",
   "metadata": {},
   "outputs": [
    {
     "data": {
      "text/plain": [
       "[100, 300, 3, 4, 5, 200, 400, 500]"
      ]
     },
     "execution_count": 14,
     "metadata": {},
     "output_type": "execute_result"
    }
   ],
   "source": [
    "# Deleting Elements in a list\n",
    "# 1. deleting elements of a list using index\n",
    "del l1[0]\n",
    "l1"
   ]
  },
  {
   "cell_type": "code",
   "execution_count": 17,
   "id": "148c7269-55a4-4554-bfee-b316d58e0d75",
   "metadata": {},
   "outputs": [
    {
     "name": "stdout",
     "output_type": "stream",
     "text": [
      "400\n"
     ]
    }
   ],
   "source": [
    "# deleting elements in a list using pop method \n",
    "pop_element = l1.pop()\n",
    "print(pop_element) "
   ]
  },
  {
   "cell_type": "code",
   "execution_count": 18,
   "id": "d8f5ad9e-fde1-4509-876a-3f615f8a2781",
   "metadata": {},
   "outputs": [
    {
     "data": {
      "text/plain": [
       "[100, 300, 3, 4, 5, 200]"
      ]
     },
     "execution_count": 18,
     "metadata": {},
     "output_type": "execute_result"
    }
   ],
   "source": [
    "l1"
   ]
  },
  {
   "cell_type": "code",
   "execution_count": 19,
   "id": "2e306094-5629-4475-b22a-131c75a6e78a",
   "metadata": {},
   "outputs": [
    {
     "name": "stdout",
     "output_type": "stream",
     "text": [
      "3\n"
     ]
    }
   ],
   "source": [
    "pop_element = l1.pop(2)\n",
    "print(pop_element) "
   ]
  },
  {
   "cell_type": "code",
   "execution_count": 20,
   "id": "99593b80-63c7-4914-b2b5-a6b0afa7c1b3",
   "metadata": {},
   "outputs": [
    {
     "data": {
      "text/plain": [
       "[100, 300, 4, 5, 200]"
      ]
     },
     "execution_count": 20,
     "metadata": {},
     "output_type": "execute_result"
    }
   ],
   "source": [
    "l1"
   ]
  },
  {
   "cell_type": "code",
   "execution_count": 25,
   "id": "fa061ccf-9852-4f92-aebc-4a49a4cfde85",
   "metadata": {},
   "outputs": [],
   "source": [
    "# deleting using slicing and the del statement to remove multiple elements.\n",
    "del l1[2:5] "
   ]
  },
  {
   "cell_type": "code",
   "execution_count": 26,
   "id": "61b0ce40-6b5b-4f35-82aa-d4241a0c6d00",
   "metadata": {},
   "outputs": [
    {
     "data": {
      "text/plain": [
       "[100, 300]"
      ]
     },
     "execution_count": 26,
     "metadata": {},
     "output_type": "execute_result"
    }
   ],
   "source": [
    "l1"
   ]
  },
  {
   "cell_type": "code",
   "execution_count": 27,
   "id": "bbd74626-961d-4f82-b9a2-f89a33be4e44",
   "metadata": {},
   "outputs": [
    {
     "data": {
      "text/plain": [
       "[]"
      ]
     },
     "execution_count": 27,
     "metadata": {},
     "output_type": "execute_result"
    }
   ],
   "source": [
    "# clearing the entile list\n",
    "l1.clear()\n",
    "l1"
   ]
  },
  {
   "cell_type": "code",
   "execution_count": 28,
   "id": "971a4faa-3403-4938-8fda-7c7411007902",
   "metadata": {},
   "outputs": [],
   "source": [
    "# Deleting the list\n",
    "del l1"
   ]
  },
  {
   "cell_type": "code",
   "execution_count": 30,
   "id": "1d95305a-e29f-449b-9ffb-b9c6e344ecaa",
   "metadata": {},
   "outputs": [
    {
     "ename": "NameError",
     "evalue": "name 'l1' is not defined",
     "output_type": "error",
     "traceback": [
      "\u001b[0;31m---------------------------------------------------------------------------\u001b[0m",
      "\u001b[0;31mNameError\u001b[0m                                 Traceback (most recent call last)",
      "Cell \u001b[0;32mIn[30], line 1\u001b[0m\n\u001b[0;32m----> 1\u001b[0m \u001b[43ml1\u001b[49m \u001b[38;5;66;03m# shows error because the l1 list is deleted\u001b[39;00m\n",
      "\u001b[0;31mNameError\u001b[0m: name 'l1' is not defined"
     ]
    }
   ],
   "source": [
    "l1 # shows error because the l1 list is deleted"
   ]
  },
  {
   "cell_type": "markdown",
   "id": "fa7550a1-2f0f-4cdb-adfb-20eaa8c78154",
   "metadata": {},
   "source": [
    "4. Compare and contrast tuples and lists with examples."
   ]
  },
  {
   "cell_type": "raw",
   "id": "31e725ac-7722-4d5e-af42-76473f9c81be",
   "metadata": {},
   "source": [
    "Tuples and lists are both sequence data types in Python that can store collections of items. However, they have different characteristics and use cases. Here is a comparison of tuples and lists, highlighting their differences and similarities:"
   ]
  },
  {
   "cell_type": "code",
   "execution_count": 1,
   "id": "97b7dcb6-752d-4d1e-b91e-16c2d0876b86",
   "metadata": {},
   "outputs": [],
   "source": [
    "# Similarities\n",
    "# 1. Ordered: Both tuples and lists maintain the order of elements."
   ]
  },
  {
   "cell_type": "code",
   "execution_count": 2,
   "id": "8a0911b8-1814-4725-8511-1c06d11e5151",
   "metadata": {},
   "outputs": [
    {
     "name": "stdout",
     "output_type": "stream",
     "text": [
      "2\n",
      "2\n"
     ]
    }
   ],
   "source": [
    "# 2. Indexing and Slicing: Both support indexing and slicing to access elements.\n",
    "l1 = [1,2,34,78]\n",
    "print(l1[1])\n",
    "t1 = (1,2,34,78)\n",
    "print(t1[1])"
   ]
  },
  {
   "cell_type": "code",
   "execution_count": 5,
   "id": "51149da4-c5e7-4903-942e-531467568da6",
   "metadata": {},
   "outputs": [
    {
     "name": "stdout",
     "output_type": "stream",
     "text": [
      "['Santu', [1, 2, 3], (1, 2, 3), 2.2, 3, (3+5j)]\n",
      "('Santu', [1, 2, 3], (1, 2, 3), 2.2, 3, (3+5j))\n"
     ]
    }
   ],
   "source": [
    "# 3. Heterogeneous: Both can store elements of different types.\n",
    "l1 = [\"Santu\", [1,2,3], (1,2,3), 2.2, 3, 3+5j]\n",
    "print(l1)\n",
    "t1 = (\"Santu\", [1,2,3], (1,2,3), 2.2, 3, 3+5j)\n",
    "print(t1)"
   ]
  },
  {
   "cell_type": "code",
   "execution_count": 7,
   "id": "9305ddd3-449c-46f1-89db-d8a0505cec00",
   "metadata": {},
   "outputs": [
    {
     "name": "stdout",
     "output_type": "stream",
     "text": [
      "p\n",
      "y\n",
      "t\n",
      "h\n",
      "o\n",
      "n\n"
     ]
    }
   ],
   "source": [
    "# 4. Iteration: Both can be iterated over using loops.\n",
    "l1 = ['p','y','t','h','o','n']\n",
    "for i in l1:\n",
    "    print(i)"
   ]
  },
  {
   "cell_type": "code",
   "execution_count": 8,
   "id": "3e673cfb-a5d3-447d-99b1-f1f22ddc84a9",
   "metadata": {},
   "outputs": [
    {
     "name": "stdout",
     "output_type": "stream",
     "text": [
      "p\n",
      "y\n",
      "t\n",
      "h\n",
      "o\n",
      "n\n"
     ]
    }
   ],
   "source": [
    "t1 = ('p','y','t','h','o','n')\n",
    "for i in t1:\n",
    "    print(i)"
   ]
  },
  {
   "cell_type": "code",
   "execution_count": 9,
   "id": "38ca8080-4508-4220-a05f-477159402f6d",
   "metadata": {},
   "outputs": [
    {
     "name": "stdout",
     "output_type": "stream",
     "text": [
      "[10, 2, 3, 4]\n"
     ]
    }
   ],
   "source": [
    "#Differences\n",
    "# 1. Mutability \n",
    "   # List are mutable\n",
    "my_list = [1, 2, 3]\n",
    "my_list[0] = 10\n",
    "my_list.append(4)\n",
    "print(my_list) "
   ]
  },
  {
   "cell_type": "code",
   "execution_count": 12,
   "id": "4eca9c0b-5d7c-47d4-9886-b8d92d2acaea",
   "metadata": {},
   "outputs": [
    {
     "ename": "TypeError",
     "evalue": "'tuple' object does not support item assignment",
     "output_type": "error",
     "traceback": [
      "\u001b[0;31m---------------------------------------------------------------------------\u001b[0m",
      "\u001b[0;31mTypeError\u001b[0m                                 Traceback (most recent call last)",
      "Cell \u001b[0;32mIn[12], line 3\u001b[0m\n\u001b[1;32m      1\u001b[0m \u001b[38;5;66;03m# tuples are immutable\u001b[39;00m\n\u001b[1;32m      2\u001b[0m my_tuple \u001b[38;5;241m=\u001b[39m (\u001b[38;5;241m1\u001b[39m,\u001b[38;5;241m2\u001b[39m,\u001b[38;5;241m3\u001b[39m)  \n\u001b[0;32m----> 3\u001b[0m \u001b[43mmy_tuple\u001b[49m\u001b[43m[\u001b[49m\u001b[38;5;241;43m0\u001b[39;49m\u001b[43m]\u001b[49m \u001b[38;5;241m=\u001b[39m \u001b[38;5;241m10\u001b[39m \u001b[38;5;66;03m# it raises error as tuples are immutable.\u001b[39;00m\n",
      "\u001b[0;31mTypeError\u001b[0m: 'tuple' object does not support item assignment"
     ]
    }
   ],
   "source": [
    "    # tuples are immutable\n",
    "my_tuple = (1,2,3)  \n",
    "my_tuple[0] = 10 # it raises error as tuples are immutable."
   ]
  },
  {
   "cell_type": "markdown",
   "id": "40910a12-d9d1-4c8b-9db0-8f33fc892244",
   "metadata": {},
   "source": [
    "5.  Describe the key features of sets and provide examples of their use."
   ]
  },
  {
   "cell_type": "code",
   "execution_count": 1,
   "id": "8a43d301-55a5-403b-9681-81c4b8fee20c",
   "metadata": {},
   "outputs": [
    {
     "data": {
      "text/plain": [
       "{1, 2, 3, 4, 5, 7}"
      ]
     },
     "execution_count": 1,
     "metadata": {},
     "output_type": "execute_result"
    }
   ],
   "source": [
    "# Features of set\n",
    "# 1. Unordered: Sets do not maintain any order. The elements in a set are not indexed, and their order is undefined.\n",
    "s1 = {1,2,5,3,4,7}\n",
    "s1"
   ]
  },
  {
   "cell_type": "code",
   "execution_count": 2,
   "id": "4e89622d-d93c-4b89-9685-37c363eef7fb",
   "metadata": {},
   "outputs": [
    {
     "data": {
      "text/plain": [
       "{1, 2, 3, 4, 5, 6}"
      ]
     },
     "execution_count": 2,
     "metadata": {},
     "output_type": "execute_result"
    }
   ],
   "source": [
    "# 2. Unique Elements: Sets automatically eliminate duplicate elements. Each element in a set is unique.\n",
    "my_set = {1,1,1,2,2,2,3,3,4,4,4,5,5,6,6,6}\n",
    "my_set"
   ]
  },
  {
   "cell_type": "code",
   "execution_count": 4,
   "id": "c5beea9d-903f-47b8-93ad-38157e214761",
   "metadata": {},
   "outputs": [
    {
     "data": {
      "text/plain": [
       "{1, 2, 3, 4, 5, 6, 7}"
      ]
     },
     "execution_count": 4,
     "metadata": {},
     "output_type": "execute_result"
    }
   ],
   "source": [
    "# 3. Mutable: Sets are mutable, meaning you can add or remove elements from a set after its creation. However, the elements themselves must be immutable (e.g., numbers, strings, tuples).\n",
    "#adding elements in set\n",
    "s2 = {1,2,3,4,5,6}\n",
    "s2.add(7)\n",
    "s2"
   ]
  },
  {
   "cell_type": "code",
   "execution_count": 6,
   "id": "4cd8115d-8b63-4d14-9d1b-72005ea6d795",
   "metadata": {},
   "outputs": [
    {
     "data": {
      "text/plain": [
       "{2, 3, 4, 5, 6, 7}"
      ]
     },
     "execution_count": 6,
     "metadata": {},
     "output_type": "execute_result"
    }
   ],
   "source": [
    "#removing elements in set\n",
    "s2.remove(1)\n",
    "s2"
   ]
  },
  {
   "cell_type": "code",
   "execution_count": 8,
   "id": "5b28f95b-75a4-41b8-b9d6-5fadb536916a",
   "metadata": {},
   "outputs": [
    {
     "data": {
      "text/plain": [
       "{3, 4, 5, 6, 7}"
      ]
     },
     "execution_count": 8,
     "metadata": {},
     "output_type": "execute_result"
    }
   ],
   "source": [
    "s2.discard(2)\n",
    "s2"
   ]
  },
  {
   "cell_type": "code",
   "execution_count": 9,
   "id": "9b19eb08-f48f-4cee-9e90-8a574f488efd",
   "metadata": {},
   "outputs": [
    {
     "data": {
      "text/plain": [
       "3"
      ]
     },
     "execution_count": 9,
     "metadata": {},
     "output_type": "execute_result"
    }
   ],
   "source": [
    "s2.pop()"
   ]
  },
  {
   "cell_type": "code",
   "execution_count": 10,
   "id": "0b1faf82-01f4-4663-b656-dd859f62e1bf",
   "metadata": {},
   "outputs": [
    {
     "data": {
      "text/plain": [
       "{4, 5, 6, 7}"
      ]
     },
     "execution_count": 10,
     "metadata": {},
     "output_type": "execute_result"
    }
   ],
   "source": [
    "s2"
   ]
  },
  {
   "cell_type": "code",
   "execution_count": 11,
   "id": "41cd07ee-adfc-4f92-b123-612d733f98c7",
   "metadata": {},
   "outputs": [
    {
     "data": {
      "text/plain": [
       "True"
      ]
     },
     "execution_count": 11,
     "metadata": {},
     "output_type": "execute_result"
    }
   ],
   "source": [
    "# 4. Checking Membership: Sets are optimized for checking whether an element is part of the set, which is generally faster than lists.\n",
    "s3 = {1,2,3,4,5,6}\n",
    "3 in s3"
   ]
  },
  {
   "cell_type": "code",
   "execution_count": 12,
   "id": "9cfef2a0-e733-4fca-98ec-87aa4afdb541",
   "metadata": {},
   "outputs": [
    {
     "data": {
      "text/plain": [
       "False"
      ]
     },
     "execution_count": 12,
     "metadata": {},
     "output_type": "execute_result"
    }
   ],
   "source": [
    "7 in s3"
   ]
  },
  {
   "cell_type": "code",
   "execution_count": 13,
   "id": "43ab22ad-917f-474b-b7fe-8f7f77cecc8b",
   "metadata": {},
   "outputs": [
    {
     "data": {
      "text/plain": [
       "{1, 2, 3, 4, 5, 6}"
      ]
     },
     "execution_count": 13,
     "metadata": {},
     "output_type": "execute_result"
    }
   ],
   "source": [
    "# 5. Set Operations: Sets support standard mathematical set operations like union, intersection, difference, and symmetric difference.\n",
    "# union of sets\n",
    "s1 = {1,2,3}\n",
    "s2 = {3,4,5,6}\n",
    "s1 | s2"
   ]
  },
  {
   "cell_type": "code",
   "execution_count": 14,
   "id": "20699dfc-a83f-476f-8e03-05a0ee4e0d43",
   "metadata": {},
   "outputs": [
    {
     "data": {
      "text/plain": [
       "{3}"
      ]
     },
     "execution_count": 14,
     "metadata": {},
     "output_type": "execute_result"
    }
   ],
   "source": [
    "# Intersection of two sets\n",
    "s1 & s2"
   ]
  },
  {
   "cell_type": "code",
   "execution_count": 15,
   "id": "84b61c1c-4555-4efa-84f3-97b285e41b14",
   "metadata": {},
   "outputs": [
    {
     "data": {
      "text/plain": [
       "{1, 2}"
      ]
     },
     "execution_count": 15,
     "metadata": {},
     "output_type": "execute_result"
    }
   ],
   "source": [
    "# difference of two sets\n",
    "s1 - s2"
   ]
  },
  {
   "cell_type": "code",
   "execution_count": 16,
   "id": "645ba5c3-0c73-42de-bf84-c983c9cac8ce",
   "metadata": {},
   "outputs": [
    {
     "data": {
      "text/plain": [
       "{1, 2, 4, 5, 6}"
      ]
     },
     "execution_count": 16,
     "metadata": {},
     "output_type": "execute_result"
    }
   ],
   "source": [
    "# symmetric difference of two sets\n",
    "s1 ^ s2"
   ]
  },
  {
   "cell_type": "code",
   "execution_count": 18,
   "id": "7abea135-f47d-4a92-a9e1-d4f7f243f7fe",
   "metadata": {},
   "outputs": [
    {
     "name": "stdout",
     "output_type": "stream",
     "text": [
      "1\n",
      "2\n",
      "3\n",
      "4\n",
      "5\n",
      "6\n"
     ]
    }
   ],
   "source": [
    "# 6. Iterating over a set\n",
    "my_set = {1,2,3,4,5,6}\n",
    "for i in my_set:\n",
    "    print(i)"
   ]
  },
  {
   "cell_type": "markdown",
   "id": "5cfeabe5-50cb-4045-9756-ffdc309dd910",
   "metadata": {},
   "source": [
    "6.  Discuss the use cases of tuples and sets in Python programming."
   ]
  },
  {
   "cell_type": "code",
   "execution_count": 1,
   "id": "80eee2d9-5af2-4617-9b7a-c85e7c1cf0d6",
   "metadata": {},
   "outputs": [
    {
     "data": {
      "text/plain": [
       "(20.5937, 78.9629)"
      ]
     },
     "execution_count": 1,
     "metadata": {},
     "output_type": "execute_result"
    }
   ],
   "source": [
    "# Use cases of tuples\n",
    " # 1. Immutable : Tuples are immutable, meaning that we cannot change, add or remove items after the tuple has been created.\n",
    " #    Example: Storing geographical coordinates that should not change.\n",
    "coordinates = (20.5937, 78.9629) # Latitude and longitude of India.\n",
    "coordinates"
   ]
  },
  {
   "cell_type": "code",
   "execution_count": 2,
   "id": "111504d3-cf2d-4d06-a89a-43df33fd34e3",
   "metadata": {},
   "outputs": [
    {
     "data": {
      "text/plain": [
       "('Santu', 22, 'Data Analytics')"
      ]
     },
     "execution_count": 2,
     "metadata": {},
     "output_type": "execute_result"
    }
   ],
   "source": [
    " # 2. Fixed Data Structures: Storing records with a fixed number of fields, such as a database row.\n",
    " # Example\n",
    "student_record = (\"Santu\", 22, \"Data Analytics\")\n",
    "student_record"
   ]
  },
  {
   "cell_type": "code",
   "execution_count": 7,
   "id": "706e0a4d-91b5-45ee-955b-d1ad0232ed01",
   "metadata": {},
   "outputs": [
    {
     "data": {
      "text/plain": [
       "(0,\n",
       " 1,\n",
       " 2,\n",
       " 3,\n",
       " 4,\n",
       " 5,\n",
       " 6,\n",
       " 7,\n",
       " 8,\n",
       " 9,\n",
       " 10,\n",
       " 11,\n",
       " 12,\n",
       " 13,\n",
       " 14,\n",
       " 15,\n",
       " 16,\n",
       " 17,\n",
       " 18,\n",
       " 19,\n",
       " 20,\n",
       " 21,\n",
       " 22,\n",
       " 23,\n",
       " 24,\n",
       " 25,\n",
       " 26,\n",
       " 27,\n",
       " 28,\n",
       " 29,\n",
       " 30,\n",
       " 31,\n",
       " 32,\n",
       " 33,\n",
       " 34,\n",
       " 35,\n",
       " 36,\n",
       " 37,\n",
       " 38,\n",
       " 39,\n",
       " 40,\n",
       " 41,\n",
       " 42,\n",
       " 43,\n",
       " 44,\n",
       " 45,\n",
       " 46,\n",
       " 47,\n",
       " 48,\n",
       " 49,\n",
       " 50,\n",
       " 51,\n",
       " 52,\n",
       " 53,\n",
       " 54,\n",
       " 55,\n",
       " 56,\n",
       " 57,\n",
       " 58,\n",
       " 59,\n",
       " 60,\n",
       " 61,\n",
       " 62,\n",
       " 63,\n",
       " 64,\n",
       " 65,\n",
       " 66,\n",
       " 67,\n",
       " 68,\n",
       " 69,\n",
       " 70,\n",
       " 71,\n",
       " 72,\n",
       " 73,\n",
       " 74,\n",
       " 75,\n",
       " 76,\n",
       " 77,\n",
       " 78,\n",
       " 79,\n",
       " 80,\n",
       " 81,\n",
       " 82,\n",
       " 83,\n",
       " 84,\n",
       " 85,\n",
       " 86,\n",
       " 87,\n",
       " 88,\n",
       " 89,\n",
       " 90,\n",
       " 91,\n",
       " 92,\n",
       " 93,\n",
       " 94,\n",
       " 95,\n",
       " 96,\n",
       " 97,\n",
       " 98,\n",
       " 99,\n",
       " 100)"
      ]
     },
     "execution_count": 7,
     "metadata": {},
     "output_type": "execute_result"
    }
   ],
   "source": [
    " # 3. Efficient Memory Usage: Using tuples instead of lists for large collections of constant values to save memory.\n",
    "large_tuple = tuple(range(101))\n",
    "large_tuple"
   ]
  },
  {
   "cell_type": "code",
   "execution_count": 8,
   "id": "51b003bb-6d4c-432f-8bae-6c31e469ace1",
   "metadata": {},
   "outputs": [
    {
     "data": {
      "text/plain": [
       "{1, 2, 3, 4}"
      ]
     },
     "execution_count": 8,
     "metadata": {},
     "output_type": "execute_result"
    }
   ],
   "source": [
    " # Use cases of sets\n",
    " # 1. Removing Duplicates: Cleaning up a list of items by removing duplicates.\n",
    "s1 = {1,1,2,2,3,3,4,4}\n",
    "s1"
   ]
  },
  {
   "cell_type": "code",
   "execution_count": 10,
   "id": "ff4cde8e-bc9e-41e7-afc5-eef75e029dfd",
   "metadata": {},
   "outputs": [
    {
     "name": "stdout",
     "output_type": "stream",
     "text": [
      "Welcome!\n"
     ]
    }
   ],
   "source": [
    "# 2. Membership tsting: checking the element is present in set or not.\n",
    "emp_id = {101,102,103,104,105}\n",
    "user_id = 103\n",
    "if user_id in emp_id:\n",
    "    print(\"Welcome!\")\n",
    "else:\n",
    "    print(\"Access denied\")"
   ]
  },
  {
   "cell_type": "code",
   "execution_count": 12,
   "id": "30ccfcd3-3f49-4b47-ace0-240512658303",
   "metadata": {},
   "outputs": [
    {
     "data": {
      "text/plain": [
       "{'user1', 'user2', 'user3'}"
      ]
     },
     "execution_count": 12,
     "metadata": {},
     "output_type": "execute_result"
    }
   ],
   "source": [
    "# 3. storing unique items: Keeping track of unique users in a chat application\n",
    "active_users = {\"user1\", \"user2\", \"user3\"}\n",
    "new_user = \"user2\"\n",
    "active_users.add(new_user)\n",
    "active_users"
   ]
  },
  {
   "cell_type": "markdown",
   "id": "d4b970ed-400b-4a34-ac6d-da81501bc722",
   "metadata": {},
   "source": [
    "7.  Describe how to add, modify, and delete items in a dictionary with examples."
   ]
  },
  {
   "cell_type": "code",
   "execution_count": 14,
   "id": "8699f3b0-d5e3-4f1d-9efa-21daf7af8472",
   "metadata": {},
   "outputs": [
    {
     "data": {
      "text/plain": [
       "{'name': 'Santu', 'age': 22, 'subject': 'Data Analytics'}"
      ]
     },
     "execution_count": 14,
     "metadata": {},
     "output_type": "execute_result"
    }
   ],
   "source": [
    "# 1. Adding items in a dictionary\n",
    " # Adding a new key-value pair:\n",
    "dict = {'name': 'Santu', 'age': 22}\n",
    "dict['subject'] = 'Data Analytics'\n",
    "dict    "
   ]
  },
  {
   "cell_type": "code",
   "execution_count": 15,
   "id": "5fc9718b-cc27-4355-a2d4-949161b49d9b",
   "metadata": {},
   "outputs": [
    {
     "data": {
      "text/plain": [
       "{'name': 'Santu',\n",
       " 'age': 22,\n",
       " 'subject': 'Data Analytics',\n",
       " 'email': 'santujana126@gmail.com'}"
      ]
     },
     "execution_count": 15,
     "metadata": {},
     "output_type": "execute_result"
    }
   ],
   "source": [
    " # Adding items using update method\n",
    "dict.update({'email':'santujana126@gmail.com'})\n",
    "dict"
   ]
  },
  {
   "cell_type": "code",
   "execution_count": 23,
   "id": "9efafe5f-141f-46b6-8fde-5da36ced2a7f",
   "metadata": {},
   "outputs": [
    {
     "name": "stdout",
     "output_type": "stream",
     "text": [
      "{'name': 'Ajay', 'age': 22, 'subject': 'Data Analytics', 'email': 'santujana126@gmail.com'}\n"
     ]
    }
   ],
   "source": [
    "# 2. Modifying items in a dictionary\n",
    "  # Modifying an Existing Key-Value Pair    \n",
    "print(dict)"
   ]
  },
  {
   "cell_type": "code",
   "execution_count": 24,
   "id": "a96354e0-9bd0-44c6-8247-f4693d14f427",
   "metadata": {},
   "outputs": [
    {
     "data": {
      "text/plain": [
       "{'name': 'Ajay',\n",
       " 'age': 22,\n",
       " 'subject': 'Data Analytics',\n",
       " 'email': 'santujana126@gmail.com'}"
      ]
     },
     "execution_count": 24,
     "metadata": {},
     "output_type": "execute_result"
    }
   ],
   "source": [
    "dict['name'] = 'Ajay'\n",
    "dict"
   ]
  },
  {
   "cell_type": "code",
   "execution_count": 26,
   "id": "796f6556-bbf0-4918-a334-1999d482cd15",
   "metadata": {},
   "outputs": [
    {
     "name": "stdout",
     "output_type": "stream",
     "text": [
      "{'name': 'Ajay', 'age': 22, 'subject': 'Data Analytics', 'email': 'santujana126@gmail.com'}\n"
     ]
    }
   ],
   "source": [
    " # Modifying using update method\n",
    "print(dict)"
   ]
  },
  {
   "cell_type": "code",
   "execution_count": 27,
   "id": "c29d0d47-b2f7-4a7f-a48d-0207e6104b32",
   "metadata": {},
   "outputs": [
    {
     "data": {
      "text/plain": [
       "{'name': 'Ajay',\n",
       " 'age': 23,\n",
       " 'subject': 'Data Analytics',\n",
       " 'email': 's@gmail.com'}"
      ]
     },
     "execution_count": 27,
     "metadata": {},
     "output_type": "execute_result"
    }
   ],
   "source": [
    "dict.update({\"age\":23, 'email':'s@gmail.com'})\n",
    "dict"
   ]
  },
  {
   "cell_type": "code",
   "execution_count": 28,
   "id": "b88f0765-1364-404d-90ef-1674936d909b",
   "metadata": {},
   "outputs": [
    {
     "name": "stdout",
     "output_type": "stream",
     "text": [
      "{'name': 'Ajay', 'age': 23, 'subject': 'Data Analytics', 'email': 's@gmail.com'}\n"
     ]
    }
   ],
   "source": [
    "# 3. Deleting items from a dictionary\n",
    "  # using del to delete items in a dictionary\n",
    "print(dict)    "
   ]
  },
  {
   "cell_type": "code",
   "execution_count": null,
   "id": "75f225ed-8341-43b0-83b9-d788fb3a1b17",
   "metadata": {},
   "outputs": [],
   "source": [
    "del dict[\"age\"]"
   ]
  },
  {
   "cell_type": "code",
   "execution_count": 33,
   "id": "b0d2e328-e031-4f8f-887a-962112474b11",
   "metadata": {},
   "outputs": [
    {
     "data": {
      "text/plain": [
       "{'name': 'Ajay', 'subject': 'Data Analytics', 'email': 's@gmail.com'}"
      ]
     },
     "execution_count": 33,
     "metadata": {},
     "output_type": "execute_result"
    }
   ],
   "source": [
    "dict"
   ]
  },
  {
   "cell_type": "code",
   "execution_count": 34,
   "id": "8300eac9-ffb7-4e05-aab1-accc2096622f",
   "metadata": {},
   "outputs": [
    {
     "name": "stdout",
     "output_type": "stream",
     "text": [
      "{'name': 'Ajay', 'subject': 'Data Analytics', 'email': 's@gmail.com'}\n"
     ]
    }
   ],
   "source": [
    "  # using pop method\n",
    "print(dict)    "
   ]
  },
  {
   "cell_type": "code",
   "execution_count": 35,
   "id": "37b2ca1d-6c9d-499b-ad37-9b84dac4f442",
   "metadata": {},
   "outputs": [
    {
     "data": {
      "text/plain": [
       "{'name': 'Ajay', 'subject': 'Data Analytics'}"
      ]
     },
     "execution_count": 35,
     "metadata": {},
     "output_type": "execute_result"
    }
   ],
   "source": [
    "dict.pop('email')\n",
    "dict"
   ]
  },
  {
   "cell_type": "code",
   "execution_count": 36,
   "id": "822fe717-62e6-4bcb-9915-124c3c0203a4",
   "metadata": {},
   "outputs": [
    {
     "data": {
      "text/plain": [
       "{}"
      ]
     },
     "execution_count": 36,
     "metadata": {},
     "output_type": "execute_result"
    }
   ],
   "source": [
    "  # using clear method to remove all items from the dictionary\n",
    "dict.clear()\n",
    "dict"
   ]
  },
  {
   "cell_type": "code",
   "execution_count": 37,
   "id": "d924ae55-3b88-4a02-82e3-1a4fba32eeab",
   "metadata": {},
   "outputs": [],
   "source": [
    "  # deleting the dictionary\n",
    "del dict    "
   ]
  },
  {
   "cell_type": "markdown",
   "id": "870318e8-a49b-4f96-9431-e7e75bb30eaa",
   "metadata": {},
   "source": [
    "8. Discuss the importance of dictionary keys being immutable and provide examples."
   ]
  },
  {
   "cell_type": "raw",
   "id": "fc9af6f6-aa19-4397-977b-d4642b8f1815",
   "metadata": {},
   "source": [
    "In Python, dictionary keys must be immutable. This is a crucial requirement for several reasons:\n",
    "\n",
    "1. Hashing Requirement:\n",
    "Dictionaries in Python use a hash table to store key-value pairs. The keys must be hashable to determine the index at which the value should be stored.\n",
    "Immutable objects like strings, numbers, and tuples have a fixed hash value during their lifetime, which allows consistent access to the associated value.\n",
    "\n",
    "2. Consistency and Integrity:\n",
    "If keys were mutable, changing the key after it has been inserted into the dictionary would lead to inconsistencies. The original hash value would not match the new state of the key, making it impossible to retrieve the value.\n",
    "Immutable keys ensure that the data structure remains consistent and reliable.\n",
    "\n",
    "3. Performance:\n",
    "Using immutable keys ensures that the dictionary operations such as insertions, deletions, and lookups are efficient and predictable."
   ]
  },
  {
   "cell_type": "code",
   "execution_count": 40,
   "id": "b69b1feb-da6b-4805-b1ff-900470af47ca",
   "metadata": {},
   "outputs": [
    {
     "data": {
      "text/plain": [
       "'Santu'"
      ]
     },
     "execution_count": 40,
     "metadata": {},
     "output_type": "execute_result"
    }
   ],
   "source": [
    "# Examples\n",
    "# using immutable keys\n",
    "# 1. string keys\n",
    "dict = {'name': 'Santu', 'age': 22}\n",
    "dict['name']"
   ]
  },
  {
   "cell_type": "code",
   "execution_count": 41,
   "id": "10284b94-0a39-4b84-8e41-e7f45626b49c",
   "metadata": {},
   "outputs": [
    {
     "data": {
      "text/plain": [
       "'Mumbai'"
      ]
     },
     "execution_count": 41,
     "metadata": {},
     "output_type": "execute_result"
    }
   ],
   "source": [
    "# 2. Tuple keys\n",
    "dict1 = {(19.0760, 72.8777): 'Mumbai', (22.9868, 87.8550): 'West Bengal'}\n",
    "dict1[(19.0760, 72.8777)]"
   ]
  },
  {
   "cell_type": "code",
   "execution_count": 42,
   "id": "8b33262a-eb5f-4a1e-99dc-874a3865033b",
   "metadata": {},
   "outputs": [
    {
     "data": {
      "text/plain": [
       "4"
      ]
     },
     "execution_count": 42,
     "metadata": {},
     "output_type": "execute_result"
    }
   ],
   "source": [
    "# 3. Integer keys\n",
    "dict2 = {1: 1, 2: 4, 3: 9, 4: 16}\n",
    "dict2[2]"
   ]
  },
  {
   "cell_type": "code",
   "execution_count": 44,
   "id": "3726c3d7-88ed-443d-a1c2-43fdd77db5ca",
   "metadata": {},
   "outputs": [
    {
     "ename": "TypeError",
     "evalue": "unhashable type: 'list'",
     "output_type": "error",
     "traceback": [
      "\u001b[0;31m---------------------------------------------------------------------------\u001b[0m",
      "\u001b[0;31mTypeError\u001b[0m                                 Traceback (most recent call last)",
      "Cell \u001b[0;32mIn[44], line 3\u001b[0m\n\u001b[1;32m      1\u001b[0m \u001b[38;5;66;03m# using mutable keys\u001b[39;00m\n\u001b[1;32m      2\u001b[0m \u001b[38;5;66;03m# 1. List keys:\u001b[39;00m\n\u001b[0;32m----> 3\u001b[0m dict3 \u001b[38;5;241m=\u001b[39m {[\u001b[38;5;241m1\u001b[39m,\u001b[38;5;241m2\u001b[39m,\u001b[38;5;241m3\u001b[39m,\u001b[38;5;241m4\u001b[39m]: \u001b[38;5;124m'\u001b[39m\u001b[38;5;124mnumbers\u001b[39m\u001b[38;5;124m'\u001b[39m}\n\u001b[1;32m      4\u001b[0m dict3    \u001b[38;5;66;03m# as list is mutable it will show an error\u001b[39;00m\n",
      "\u001b[0;31mTypeError\u001b[0m: unhashable type: 'list'"
     ]
    }
   ],
   "source": [
    "# using mutable keys\n",
    "# 1. List keys\n",
    "dict3 = {[1,2,3,4]: 'numbers'}\n",
    "dict3    # as list is mutable it will show an error"
   ]
  },
  {
   "cell_type": "code",
   "execution_count": 45,
   "id": "e81bee49-9a5d-4ed9-bf27-26869f7eb8bf",
   "metadata": {},
   "outputs": [
    {
     "ename": "TypeError",
     "evalue": "unhashable type: 'dict'",
     "output_type": "error",
     "traceback": [
      "\u001b[0;31m---------------------------------------------------------------------------\u001b[0m",
      "\u001b[0;31mTypeError\u001b[0m                                 Traceback (most recent call last)",
      "Cell \u001b[0;32mIn[45], line 2\u001b[0m\n\u001b[1;32m      1\u001b[0m \u001b[38;5;66;03m# 2. Dictionary keys\u001b[39;00m\n\u001b[0;32m----> 2\u001b[0m dict4 \u001b[38;5;241m=\u001b[39m {{\u001b[38;5;124m'\u001b[39m\u001b[38;5;124mkey\u001b[39m\u001b[38;5;124m'\u001b[39m: \u001b[38;5;124m'\u001b[39m\u001b[38;5;124mvalue\u001b[39m\u001b[38;5;124m'\u001b[39m}: \u001b[38;5;124m'\u001b[39m\u001b[38;5;124mitem\u001b[39m\u001b[38;5;124m'\u001b[39m} \n\u001b[1;32m      3\u001b[0m dict4\n",
      "\u001b[0;31mTypeError\u001b[0m: unhashable type: 'dict'"
     ]
    }
   ],
   "source": [
    "# 2. Dictionary keys\n",
    "dict4 = {{'key': 'value'}: 'item'} \n",
    "dict4"
   ]
  },
  {
   "cell_type": "code",
   "execution_count": null,
   "id": "f53cb267-e3eb-4f29-aed6-e0151102bbfc",
   "metadata": {},
   "outputs": [],
   "source": []
  }
 ],
 "metadata": {
  "kernelspec": {
   "display_name": "Python 3 (ipykernel)",
   "language": "python",
   "name": "python3"
  },
  "language_info": {
   "codemirror_mode": {
    "name": "ipython",
    "version": 3
   },
   "file_extension": ".py",
   "mimetype": "text/x-python",
   "name": "python",
   "nbconvert_exporter": "python",
   "pygments_lexer": "ipython3",
   "version": "3.10.8"
  }
 },
 "nbformat": 4,
 "nbformat_minor": 5
}
